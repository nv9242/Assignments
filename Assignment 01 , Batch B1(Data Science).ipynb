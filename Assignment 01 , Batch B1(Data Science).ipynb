{
 "cells": [
  {
   "cell_type": "markdown",
   "metadata": {},
   "source": [
    "# Q1)Given the following jumbled word, OBANWRI guess the correct English word.\n",
    "\n",
    "A. RANIBOW\n",
    "B. RAINBOW\n",
    "C. BOWRANI\n",
    "D. ROBWANI\n",
    "\n",
    "Answer : B.RAINBOW\n"
   ]
  },
  {
   "cell_type": "markdown",
   "metadata": {},
   "source": [
    " # Q2)Write a Program which prints \"LETS UPGRADE\"."
   ]
  },
  {
   "cell_type": "code",
   "execution_count": 27,
   "metadata": {
    "scrolled": true
   },
   "outputs": [
    {
     "name": "stdout",
     "output_type": "stream",
     "text": [
      "LETS UPGRADE\n"
     ]
    }
   ],
   "source": [
    "print(\"LETS UPGRADE\")"
   ]
  },
  {
   "cell_type": "markdown",
   "metadata": {},
   "source": [
    "# Q3)Write a Program that takes cost price and selling price as Input and    displays whether the transaction is a profit or a loss or neither."
   ]
  },
  {
   "cell_type": "code",
   "execution_count": 28,
   "metadata": {},
   "outputs": [
    {
     "name": "stdout",
     "output_type": "stream",
     "text": [
      "20\n",
      "10\n",
      "Loss\n"
     ]
    }
   ],
   "source": [
    "CP=int(input()) #CP is Cost Price\n",
    "SP=int(input()) #SP is Selling Price\n",
    "sub = SP-CP     #sub is Difference Between SP & CP\n",
    "if sub>=CP:\n",
    "    print(\"Profit\")\n",
    "elif sub==0:\n",
    "    print(\"Neither\")\n",
    "else:\n",
    "    print(\"Loss\")\n"
   ]
  },
  {
   "cell_type": "code",
   "execution_count": 29,
   "metadata": {},
   "outputs": [
    {
     "name": "stdout",
     "output_type": "stream",
     "text": [
      "10\n",
      "20\n",
      "Profit\n"
     ]
    }
   ],
   "source": [
    "CP=int(input()) #CP is Cost Price\n",
    "SP=int(input()) #SP is Selling Price\n",
    "sub = SP-CP     #sub is Difference Between SP & CP\n",
    "if sub>=CP:\n",
    "    print(\"Profit\")\n",
    "elif sub==0:\n",
    "    print(\"Neither\")\n",
    "else:\n",
    "    print(\"Loss\")"
   ]
  },
  {
   "cell_type": "code",
   "execution_count": 30,
   "metadata": {},
   "outputs": [
    {
     "name": "stdout",
     "output_type": "stream",
     "text": [
      "20\n",
      "20\n",
      "Neither\n"
     ]
    }
   ],
   "source": [
    "CP=int(input()) #CP is Cost Price\n",
    "SP=int(input()) #SP is Selling Price\n",
    "sub = SP-CP     #sub is Difference Between SP & CP\n",
    "if sub>=CP:\n",
    "    print(\"Profit\")\n",
    "elif sub==0:\n",
    "    print(\"Neither\")\n",
    "else:\n",
    "    print(\"Loss\")"
   ]
  },
  {
   "cell_type": "markdown",
   "metadata": {},
   "source": [
    "# Q4) Write a program that takes an amount in Euros as input. You Need to find its equivalent in Rupees and Display it. Assume 1 Euro = 80 Rupees"
   ]
  },
  {
   "cell_type": "code",
   "execution_count": 31,
   "metadata": {},
   "outputs": [
    {
     "name": "stdout",
     "output_type": "stream",
     "text": [
      "10\n",
      "800\n"
     ]
    }
   ],
   "source": [
    "ER=int(input()) # ER is value of Euro\n",
    "RS=ER*80        # RS is value of Euro in Rupees\n",
    "print(RS)"
   ]
  },
  {
   "cell_type": "code",
   "execution_count": 32,
   "metadata": {},
   "outputs": [
    {
     "name": "stdout",
     "output_type": "stream",
     "text": [
      "20\n",
      "1600\n"
     ]
    }
   ],
   "source": [
    "ER=int(input()) # ER is value of Euro\n",
    "RS=ER*80        # RS is value of Euro in Rupees\n",
    "print(RS)"
   ]
  },
  {
   "cell_type": "code",
   "execution_count": 33,
   "metadata": {},
   "outputs": [
    {
     "name": "stdout",
     "output_type": "stream",
     "text": [
      "30\n",
      "2400\n"
     ]
    }
   ],
   "source": [
    "ER=int(input()) # ER is value of Euro\n",
    "RS=ER*80        # RS is value of Euro in Rupees\n",
    "print(RS)"
   ]
  }
 ],
 "metadata": {
  "kernelspec": {
   "display_name": "Python 3",
   "language": "python",
   "name": "python3"
  },
  "language_info": {
   "codemirror_mode": {
    "name": "ipython",
    "version": 3
   },
   "file_extension": ".py",
   "mimetype": "text/x-python",
   "name": "python",
   "nbconvert_exporter": "python",
   "pygments_lexer": "ipython3",
   "version": "3.8.3"
  }
 },
 "nbformat": 4,
 "nbformat_minor": 4
}
